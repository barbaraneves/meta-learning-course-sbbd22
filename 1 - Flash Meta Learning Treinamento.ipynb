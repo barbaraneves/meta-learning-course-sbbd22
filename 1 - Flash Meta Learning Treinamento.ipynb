{
 "cells": [
  {
   "cell_type": "markdown",
   "source": [
    "# Bibliotecas"
   ],
   "metadata": {
    "id": "4O7i6LzIQNjp"
   }
  },
  {
   "cell_type": "code",
   "execution_count": null,
   "metadata": {
    "id": "kTUFd1bzRl22"
   },
   "outputs": [],
   "source": [
    "# Ignorando alguns logs\n",
    "import warnings\n",
    "warnings.simplefilter(\"ignore\")\n",
    "\n",
    "# Processamento dos dados\n",
    "import glob\n",
    "import pandas as pd\n",
    "import numpy as np\n",
    "\n",
    "# Divisão dos dados\n",
    "from sklearn.model_selection import train_test_split\n",
    "\n",
    "# Importando os frameworks\n",
    "import torch\n",
    "import flash\n",
    "from pytorch_lightning import seed_everything\n",
    "from flash.image import ImageClassificationData, ImageClassifier"
   ]
  },
  {
   "cell_type": "markdown",
   "source": [
    "# Leitura dos dados"
   ],
   "metadata": {
    "id": "Ixsv2S7qKRSJ"
   }
  },
  {
   "cell_type": "markdown",
   "source": [
    "Para começar o experimento, é necessario carregar os dados utilizados. O Pytorch funciona de forma lazy, ou seja, não vamos carregar todas as fotos em disco, devemos apenas ter um Dataframe que possui o caminho até a imagem e sua classe."
   ],
   "metadata": {
    "id": "ujqASXduKTvU"
   }
  },
  {
   "cell_type": "markdown",
   "source": [
    "## Processando os caminhos\n",
    "Função para dar um parse do caminho e obter o dicionario com a chave para o caminho absoluto e a classe da imagem"
   ],
   "metadata": {
    "id": "Xw9Z0Z2cKo_y"
   }
  },
  {
   "cell_type": "code",
   "execution_count": null,
   "metadata": {
    "id": "jkDjfb0MRhof"
   },
   "outputs": [],
   "source": [
    "def class_from_path(path):\n",
    "\n",
    "    list_ = path.split('/')\n",
    "    class_ = list_[-2]\n",
    "\n",
    "    return {\n",
    "        'class': class_,\n",
    "        'path': path\n",
    "    }"
   ]
  },
  {
   "cell_type": "markdown",
   "source": [
    "String de busca para obter os caminhos das classes aloevera e cassava"
   ],
   "metadata": {
    "id": "bCIO-umaK7sD"
   }
  },
  {
   "cell_type": "code",
   "execution_count": null,
   "metadata": {
    "id": "rDzu5ZGFRrfw"
   },
   "outputs": [],
   "source": [
    "data_paths_fruits = [\n",
    "                     'data/new_types_fruits/aloevera/*',\n",
    "                     'data/new_types_fruits/cassava/*'\n",
    "                     ]"
   ]
  },
  {
   "cell_type": "markdown",
   "source": [
    "## Mostrando o Dataframe"
   ],
   "metadata": {
    "id": "Ul0HkD1qLCqQ"
   }
  },
  {
   "cell_type": "code",
   "execution_count": null,
   "metadata": {
    "id": "AW2zYm5RRv-O"
   },
   "outputs": [],
   "source": [
    "fruits_paths = [glob.glob(path) for path in data_paths_fruits]"
   ]
  },
  {
   "cell_type": "code",
   "execution_count": null,
   "outputs": [],
   "source": [
    "fruits_paths"
   ],
   "metadata": {
    "collapsed": false
   }
  },
  {
   "cell_type": "code",
   "execution_count": null,
   "metadata": {
    "id": "I9bZ_33LSZAg"
   },
   "outputs": [],
   "source": [
    "paths = [*fruits_paths[0], *fruits_paths[1]]"
   ]
  },
  {
   "cell_type": "code",
   "execution_count": null,
   "metadata": {
    "colab": {
     "base_uri": "https://localhost:8080/",
     "height": 206
    },
    "executionInfo": {
     "elapsed": 969,
     "status": "ok",
     "timestamp": 1663765635093,
     "user": {
      "displayName": "João Araújo Castelo Branco",
      "userId": "14854184420491623908"
     },
     "user_tz": 180
    },
    "id": "hLTL8s_WSeCU",
    "outputId": "378e1974-4ba4-4d93-ca05-2f63db21b2f8"
   },
   "outputs": [],
   "source": [
    "classes = map(class_from_path, paths)\n",
    "df_paths = pd.DataFrame(classes)\n",
    "\n",
    "df_paths['class'] = df_paths['class'] == 'aloevera'\n",
    "\n",
    "df_paths.head()"
   ]
  },
  {
   "cell_type": "markdown",
   "source": [
    "# Separando em Treino, Teste e Validação"
   ],
   "metadata": {
    "id": "Gyb-yN-2LMEc"
   }
  },
  {
   "cell_type": "code",
   "source": [
    "df_, test = train_test_split(df_paths, test_size=0.3, random_state=42)\n",
    "\n",
    "train, val = train_test_split(df_, test_size=0.2, random_state=42)\n",
    "\n",
    "train.shape[0], val.shape[0], test.shape[0]"
   ],
   "metadata": {
    "colab": {
     "base_uri": "https://localhost:8080/"
    },
    "id": "TDkYSc08JaQ9",
    "executionInfo": {
     "status": "ok",
     "timestamp": 1663766604989,
     "user_tz": 180,
     "elapsed": 281,
     "user": {
      "displayName": "João Araújo Castelo Branco",
      "userId": "14854184420491623908"
     }
    },
    "outputId": "42ecf3dc-20b9-43e0-d711-d50ae33d3077"
   },
   "execution_count": null,
   "outputs": []
  },
  {
   "cell_type": "markdown",
   "source": [
    "# Seed\n",
    "Para tornar o experimento reprodutivel, deve-se travar a seed dos frameworks"
   ],
   "metadata": {
    "id": "tYNf9nS1LUjm"
   }
  },
  {
   "cell_type": "code",
   "execution_count": null,
   "metadata": {
    "colab": {
     "base_uri": "https://localhost:8080/"
    },
    "executionInfo": {
     "elapsed": 8,
     "status": "ok",
     "timestamp": 1663766605216,
     "user": {
      "displayName": "João Araújo Castelo Branco",
      "userId": "14854184420491623908"
     },
     "user_tz": 180
    },
    "id": "5nbEexYfSwjl",
    "outputId": "e1cd3fe1-e8ab-4199-dadf-c1bbeb866ffe"
   },
   "outputs": [],
   "source": [
    "seed_everything(42)"
   ]
  },
  {
   "cell_type": "markdown",
   "source": [
    "# Modulo Dataset\n",
    "Com o Dataframe gerado, devemos instaciar uma classe de dados que permite acessar as imagens quando necessario."
   ],
   "metadata": {
    "id": "CTULp_5tLqnn"
   }
  },
  {
   "cell_type": "code",
   "execution_count": null,
   "metadata": {
    "id": "xe2yGA7JS0G0"
   },
   "outputs": [],
   "source": [
    "datamodule_fruits = ImageClassificationData.from_data_frame(\n",
    "     \"path\",\n",
    "     \"class\",\n",
    "     train_data_frame=train,\n",
    "    \n",
    "     val_data_frame = val,\n",
    "\n",
    "     test_data_frame = test,\n",
    "\n",
    "     transform_kwargs=dict(image_size=(128, 128)),\n",
    "\n",
    "     batch_size=2\n",
    "\n",
    "     )"
   ]
  },
  {
   "cell_type": "markdown",
   "source": [
    "# Montando o modelo\n",
    "Agora começam as configurações utilizadas pelo treinamento"
   ],
   "metadata": {
    "id": "5LQRGHyhL9lz"
   }
  },
  {
   "cell_type": "code",
   "execution_count": null,
   "metadata": {
    "colab": {
     "base_uri": "https://localhost:8080/"
    },
    "executionInfo": {
     "elapsed": 320,
     "status": "ok",
     "timestamp": 1663766608675,
     "user": {
      "displayName": "João Araújo Castelo Branco",
      "userId": "14854184420491623908"
     },
     "user_tz": 180
    },
    "id": "-9NBd_OXVkFU",
    "outputId": "8c7aaea8-ec76-4b32-db16-e56eba395463"
   },
   "outputs": [],
   "source": [
    "model = ImageClassifier(\n",
    "    # Rede utilizada, poderiamos ter uma classe personalizada, entretanto, \n",
    "    # usamos uma rede pronta para facilitar\n",
    "    backbone=\"resnet18\",\n",
    "\n",
    "    # defindo a meta-heuristica, aqui podemos utilizar as seguintes abordagens:\n",
    "    # maml, anil, metaoptnet e prototypicalnetworks    \n",
    "    training_strategy=\"maml\",\n",
    "\n",
    "    # Este atributo é referente a rede, no caso, não vamos utilizar uma rede \n",
    "    # pretreinada\n",
    "    pretrained=False,\n",
    "\n",
    "    # Agora, estes são atributos referentes à meta-heuristica\n",
    "    training_strategy_kwargs={\n",
    "        # Quantas epocas serão utilizadas\n",
    "        \"epoch_length\": 50,\n",
    "        \n",
    "        # tamanho do batch\n",
    "        \"meta_batch_size\": 2,\n",
    "        \n",
    "        # Quantas tarefas de treino\n",
    "        \"num_tasks\": 50,\n",
    "        \n",
    "        # Referente aos testes finais\n",
    "        \"test_num_tasks\": 50,\n",
    "        \n",
    "        # Nossos ways e shots\n",
    "        \"ways\": datamodule_fruits.num_classes,\n",
    "        \"shots\": 2,\n",
    "\n",
    "        # Ways e Shots no teste\n",
    "        \"test_ways\": 2,\n",
    "        \"test_shots\": 1,\n",
    "\n",
    "        # atributo para inserir os resultados do teste no tensorboard \n",
    "        # \"test_queries\": 15,\n",
    "    },\n",
    "\n",
    "    # Finalmente, nosso otimizador Pytorch\n",
    "    optimizer=torch.optim.Adam,\n",
    "    learning_rate=0.001,\n",
    ")\n"
   ]
  },
  {
   "cell_type": "markdown",
   "source": [
    "# Tensorboard\n",
    "Se quiser acompanhar os resultados pelo Tensorboard, é so instaciar este objeto com o path desejado para guardar os logs"
   ],
   "metadata": {
    "id": "7qlDJ9v1OAhA"
   }
  },
  {
   "cell_type": "code",
   "execution_count": null,
   "metadata": {
    "id": "IvFWaWgTv7CQ"
   },
   "outputs": [],
   "source": [
    "# from pytorch_lightning import loggers as pl_loggers\n",
    "\n",
    "# tb_logger = pl_loggers.TensorBoardLogger(save_dir=\"/content/drive/MyDrive/HerbaData/savemodel/meta_models/logs/\")"
   ]
  },
  {
   "cell_type": "markdown",
   "source": [
    "# Trainer\n",
    "Worker que vai processar o treinamento"
   ],
   "metadata": {
    "id": "sIAy-BwUOQI3"
   }
  },
  {
   "cell_type": "code",
   "execution_count": null,
   "metadata": {
    "colab": {
     "base_uri": "https://localhost:8080/",
     "height": 400
    },
    "executionInfo": {
     "elapsed": 395,
     "status": "error",
     "timestamp": 1663766996454,
     "user": {
      "displayName": "João Araújo Castelo Branco",
      "userId": "14854184420491623908"
     },
     "user_tz": 180
    },
    "id": "TCf56hRAXQCi",
    "outputId": "305c851a-cc9d-464c-e6c7-b837452e0dc5"
   },
   "outputs": [],
   "source": [
    "trainer = flash.Trainer(\n",
    "    max_epochs=50,\n",
    "    # precision=16,\n",
    "    # accelerator=\"cpu\",\n",
    "    # gpus=int(torch.cuda.is_available()),\n",
    "    # logger=tb_logger,\n",
    "    # tpu_cores=[5]\n",
    ")"
   ]
  },
  {
   "cell_type": "markdown",
   "source": [
    "# Treinando o modelo!"
   ],
   "metadata": {
    "id": "j8hspKxFPLos"
   }
  },
  {
   "cell_type": "code",
   "execution_count": null,
   "metadata": {
    "id": "k6YS6kOaXVXe"
   },
   "outputs": [],
   "source": [
    "trainer.fit(model, datamodule=datamodule_fruits)"
   ]
  },
  {
   "cell_type": "markdown",
   "source": [
    "# Agora é só salvar"
   ],
   "metadata": {
    "id": "HKhV1OO-PRJH"
   }
  },
  {
   "cell_type": "code",
   "execution_count": null,
   "metadata": {
    "id": "ZIgCZvQZQ8TV"
   },
   "outputs": [],
   "source": [
    "trainer.save_checkpoint(\"/content/drive/MyDrive/HerbaData/savemodel/meta_models/image_classification_model_fruits_maml.pt\")"
   ]
  },
  {
   "cell_type": "markdown",
   "source": [
    "# Teste \n",
    "Se vc quiser realizar os testes so ao final, pode usar este comando para gerar um report resumido dos resultados"
   ],
   "metadata": {
    "id": "6vCqqe0WPnRM"
   }
  },
  {
   "cell_type": "code",
   "execution_count": null,
   "metadata": {
    "id": "gv0uDTpSe0X6"
   },
   "outputs": [],
   "source": [
    "trainer.test(model, datamodule=datamodule_fruits)"
   ]
  }
 ],
 "metadata": {
  "accelerator": "GPU",
  "colab": {
   "collapsed_sections": [],
   "provenance": [],
   "toc_visible": true
  },
  "gpuClass": "standard",
  "kernelspec": {
   "display_name": "Python 3",
   "name": "python3"
  },
  "language_info": {
   "name": "python"
  }
 },
 "nbformat": 4,
 "nbformat_minor": 0
}
